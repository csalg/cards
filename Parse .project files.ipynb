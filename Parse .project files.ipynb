{
 "cells": [
  {
   "cell_type": "code",
   "execution_count": 46,
   "id": "basic-terminology",
   "metadata": {},
   "outputs": [
    {
     "name": "stdout",
     "output_type": "stream",
     "text": [
      "[(0, 6), (6, 14), (14, 18)]\n"
     ]
    }
   ],
   "source": [
    "import re\n",
    "import os\n",
    "\n",
    "import requests\n",
    "\n",
    "# Open the file\n",
    "with open('sample.project') as file:\n",
    "    lines = file.readlines()\n",
    "# Find out the line numbers where cards start and end and split the text accordingly\n",
    "previous_card_start = 0\n",
    "card_indexes = []\n",
    "for i, line in enumerate(lines):\n",
    "    if i == 0:\n",
    "        continue\n",
    "    if re.match(r\"^! .*\", line):\n",
    "        card_indexes.append( (previous_card_start, i) )\n",
    "        previous_card_start = i\n",
    "card_indexes.append( (previous_card_start, len(lines)) )\n",
    "print(card_indexes)\n",
    "# For each card find out the title, body, images and references.\n",
    "start, end = card_indexes[1]\n",
    "card = lines[start:end]\n",
    "title = card[0].strip('! ')\n",
    "imageStrs = (re.findall(r\"!\\[.*?\\)\", \"\\n\".join(card)))\n",
    "\n",
    "CACHE_DIR = \"./cache\"\n",
    "\n",
    "def download_image(imageStr):\n",
    "    if not os.path.exists(CACHE_DIR):\n",
    "        os.mkdir(CACHE_DIR)\n",
    "    url = parse_image_src(imageStr)\n",
    "    url_sanitized = url.replace('/', '_')\n",
    "    path = os.path.join(CACHE_DIR, url_sanitized)\n",
    "    if not os.path.exists(path):\n",
    "        r = requests.get(url, allow_redirects=True)\n",
    "        with open(path, 'wb') as file:\n",
    "            file.write(r.content)\n",
    "        \n",
    "    \n",
    "def parse_image_src(imageStr):\n",
    "    return re.findall(r\"\\]\\(.*?\\)\", imageStr)[0].strip('](').strip(\")\")\n",
    "    \n",
    "for imageStr in imageStrs:\n",
    "    download_image(imageStr)\n",
    "\n",
    "# Download the images to the cache folder"
   ]
  },
  {
   "cell_type": "code",
   "execution_count": 39,
   "id": "flush-valve",
   "metadata": {},
   "outputs": [
    {
     "name": "stdout",
     "output_type": "stream",
     "text": [
      "Defaulting to user installation because normal site-packages is not writeable\n",
      "Requirement already satisfied: markdown in /home/charlie/.local/lib/pypy3.7/site-packages (3.3.4)\n",
      "Requirement already satisfied: importlib-metadata in /home/charlie/.local/lib/pypy3.7/site-packages (from markdown) (4.0.1)\n",
      "Requirement already satisfied: zipp>=0.5 in /home/charlie/.local/lib/pypy3.7/site-packages (from importlib-metadata->markdown) (3.4.1)\n",
      "Requirement already satisfied: typing-extensions>=3.6.4 in /home/charlie/.local/lib/pypy3.7/site-packages (from importlib-metadata->markdown) (3.10.0.0)\n",
      "\u001b[33mWARNING: You are using pip version 21.1.1; however, version 21.3.1 is available.\n",
      "You should consider upgrading via the '/usr/bin/pypy3 -m pip install --upgrade pip' command.\u001b[0m\n"
     ]
    }
   ],
   "source": [
    "!pip3 install markdown"
   ]
  },
  {
   "cell_type": "code",
   "execution_count": 41,
   "id": "saving-viewer",
   "metadata": {},
   "outputs": [
    {
     "data": {
      "text/plain": [
       "'<h1>Boglioli looks</h1>\\n<p>I really like Boglioli. I think it is a good balance between the Ivy League and British country styles which were somewhat devoid of colour and the too-colourful preppy style. It is also quite austere and minimalistic. I also really like how the models are of a similar skin tone and hair to me, making it easy to imagine how something would look.</p>\\n<p>Here are some pictures:</p>\\n<p><img alt=\"Kind of how I go to work except for the blazer. A darker blazer might work better?\" src=\"https://media.gq.com/photos/57bc9fc27c4c5fcf03df642b/master/w_1600,c_limit/boglioli-gq-style-0916-04.jpg\" /></p>\\n<p><img alt=\"This is a really good look, but not sure about the black, especially the black chukkas. I think dark brown double monks would have worked better in this case.\" src=\"https://media.gq.com/photos/57bc9fc41890ff5802599873/master/w_1600,c_limit/boglioli-gq-style-0916-05.jpg\" /></p>\\n<p><img alt=\"I wonder if these looks work because the models are so handsome. In this case the different shades of brown work really work: dark shade for the bottoms and lighter shades for the shirt and blazer. The shirt is lighter than the blazer, which is quite classical. I think everything was so classical in this outfit that they needed those black pennys to add some gravitas. Brogues would also work here, or something with suede would harmonize beautifully with the blazer.\" src=\"https://media.gq.com/photos/57bc9fc4c4fb86bf3ac6f403/master/w_1600,c_limit/boglioli-gq-style-0916-06.jpg\" /></p>'"
      ]
     },
     "execution_count": 41,
     "metadata": {},
     "output_type": "execute_result"
    }
   ],
   "source": [
    "import markdown\n",
    "\n",
    "def card_to_markdown(card):\n",
    "    # Join lines\n",
    "    cardMd = '\\n'.join(card).replace('! ', '# ')\n",
    "    return markdown.markdown(cardMd)\n",
    "\n",
    "card_to_markdown(card)"
   ]
  },
  {
   "cell_type": "markdown",
   "id": "amended-imperial",
   "metadata": {},
   "source": [
    "I am thinking of doing this a bit differently.\n",
    "For starters, I would like to be able to quickly copy image urls somewhere and add the comments later. This suggests an inbox feature. How would it work? Well, I would copy the links to an `inbox` file, one per line. Then I would have an inbox view with these images and textareas. And I could then add my comments.\n",
    "\n",
    "I am also thinking of using tags to organize things. I think tags within a project makes sense. If there are 30 cards, then 30 tags. That's reasonable. I was thinking of using a fuzzy typing algorithm: as you type, the algorithm would fuzzy match you against existing tags.\n",
    "\n",
    "I think for now just having a grid view with images would be nice."
   ]
  }
 ],
 "metadata": {
  "kernelspec": {
   "display_name": "Python 3",
   "language": "python",
   "name": "python3"
  },
  "language_info": {
   "codemirror_mode": {
    "name": "ipython",
    "version": 3
   },
   "file_extension": ".py",
   "mimetype": "text/x-python",
   "name": "python",
   "nbconvert_exporter": "python",
   "pygments_lexer": "ipython3",
   "version": "3.9.7"
  }
 },
 "nbformat": 4,
 "nbformat_minor": 5
}
