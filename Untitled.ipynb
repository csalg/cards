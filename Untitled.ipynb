{
 "cells": [
  {
   "cell_type": "markdown",
   "id": "significant-shakespeare",
   "metadata": {},
   "source": [
    "### Spec ideas\n",
    "\n",
    "I want a way to visualize the 'project knowledge-bases' I have been writing as toml files.\n",
    "\n",
    "Here are some ideas I have:\n",
    "- Visualization would be grid based, and cards themselves can also specify if they take up several units of width or height.\n",
    "- Or it could just be one of those infinite grid setups where there are no actual rows. Still, the width might be an issue. We'll see.\n",
    "- If an online resource is referenced, when the cards are visualized the resource will first be fetched and cached.\n",
    "- It would be nice for pages to refresh if there are changes in the files.\n",
    "\n",
    "One of the problems I have is that I don't really have a clear spec for those toml files. Maybe in the future. Perhaps for now it will be similar to the monitor template:\n",
    "- name / title is the title\n",
    "- body / description is the description\n",
    "- other fields go underneath\n",
    "- images will be shown after the title\n",
    "\n",
    "An image can be just string in an array of images or {image, caption}\n",
    "\n",
    "The viewer would scan the projects folder for toml file. Maybe the extension should be `.project.toml`. I am also thinking of having an includes directive.\n",
    "\n",
    "The top-level keys are the sections. This will usually be arrays, and the arrays contain cards.\n",
    "\n",
    "Addresses can be checked, and then a form can be submitted and the addresses can be returned.\n",
    "\n",
    "### Design\n",
    "\n",
    "**API**\n",
    "- `/` A list of all the `*.project.toml` files in the project folder (recursive search).\n",
    "- `/cache/<url>` Hit the cache for an image or website.\n",
    "- `/view/<file>` Viewer\n",
    "- `/watch/` A list of the files in the watch folder. These can be addressed by original filename or by content-addressable filename.\n",
    "\n",
    "There would also be a backend and a worker like in monitor. The worker would be monitoring for changes and caching things.\n",
    "\n",
    "### Implementation ideas\n",
    "\n",
    "To cache an image: \n",
    "```\n",
    "check if the address hits the cache\n",
    "download the image to `/tmp`\n",
    "find out the hash\n",
    "save the image if it doesn't exist\n",
    "add entry to cache\n",
    "```\n",
    "\n",
    "To cache a website:\n",
    "```\n",
    "https://pypi.org/project/pywebcopy/\n",
    "```\n",
    "\n",
    "To clip images from anywhere: configure `scrot` so some key binding saves clippings to a watch folder. Then, refer to this file as `/clipped/<original filename>.png` or `/clipped/<hash filename>.png` in a configuration file. The worker will copy the file to the cache."
   ]
  },
  {
   "cell_type": "code",
   "execution_count": 15,
   "id": "innocent-bhutan",
   "metadata": {},
   "outputs": [],
   "source": [
    "# Listing\n",
    "import toml\n",
    "import os\n",
    "\n",
    "with open('config.toml') as file:\n",
    "    config = toml.load(file)\n",
    "\n",
    "def list_():\n",
    "    \"\"\"\n",
    "    Return an array of the form: [{filename, path, project}]\n",
    "    \"\"\"\n",
    "    result = []\n",
    "    for root, dirs, files in os.walk(config['PROJECTS_FOLDER']):\n",
    "        for filename in files:\n",
    "            if 'project.toml' in filename:\n",
    "                result.append(os.path.join(root, filename))\n",
    "    return result\n",
    "\n",
    "# Viewer\n",
    "# A card is something like this\n",
    "\n",
    "from dataclasses import dataclass\n",
    "\n",
    "@dataclass\n",
    "class Card:\n",
    "    \"\"\"\n",
    "    When mapping toml, any object with only primitive valued fields is a card.\n",
    "    \"\"\"\n",
    "    title: str\n",
    "    description: str\n",
    "        \n",
    "    def format(self):\n",
    "        return f\"\"\"{self.title}\n",
    "{self.description}\"\"\"\n",
    "\n",
    "@dataclass\n",
    "class Section:\n",
    "    \"\"\"\n",
    "    When mapping toml, any object with at least one field that is an array or an object is a section.\n",
    "    \"\"\"\n",
    "    title: str\n",
    "    depth: int\n",
    "    description_card: Card\n",
    "    children: list # An array of cards (leaf nodes) and sections.\n",
    "    \n",
    "    def format(self):\n",
    "        formatted_children = '\\n'.join((child.format() for child in self.children))\n",
    "        return f\"\"\"<h{self.depth}>{self.title}</h{self.depth}>\n",
    "{self.describe()}\n",
    "{formatted_children}\n",
    "\"\"\"\n",
    "\n"
   ]
  },
  {
   "cell_type": "code",
   "execution_count": 17,
   "id": "terminal-sentence",
   "metadata": {},
   "outputs": [],
   "source": [
    "filename = list_()[0]"
   ]
  },
  {
   "cell_type": "code",
   "execution_count": 19,
   "id": "incomplete-pierre",
   "metadata": {},
   "outputs": [],
   "source": [
    "with open(filename) as file:\n",
    "    project = toml.load(file)"
   ]
  },
  {
   "cell_type": "code",
   "execution_count": 24,
   "id": "activated-hydrogen",
   "metadata": {},
   "outputs": [
    {
     "data": {
      "text/plain": [
       "list"
      ]
     },
     "execution_count": 24,
     "metadata": {},
     "output_type": "execute_result"
    }
   ],
   "source": [
    "type(project['thrift-stores'])"
   ]
  },
  {
   "cell_type": "code",
   "execution_count": 26,
   "id": "narrow-remark",
   "metadata": {},
   "outputs": [],
   "source": [
    "def is_section(entry):\n",
    "    for val in entry.values():\n",
    "        if type(val) == 'dict':\n",
    "            return True\n",
    "        if type(val) == 'list':\n",
    "            if len(val):\n",
    "                if type(val[0]) == 'dict':\n",
    "                    return True\n",
    "    return False"
   ]
  },
  {
   "cell_type": "code",
   "execution_count": 192,
   "id": "international-arizona",
   "metadata": {},
   "outputs": [],
   "source": [
    "import requests\n",
    "from bs4 import BeautifulSoup\n",
    "import statistics\n",
    "\n",
    "\n",
    "def history_stats(query, category='shoes'):\n",
    "    prices = get_prices(query, category)\n",
    "    print(prices)\n",
    "    return {\n",
    "    'mean': statistics.mean(prices),\n",
    "    'quantiles': statistics.quantiles(prices),\n",
    "    'stdev' :statistics.stdev(prices),\n",
    "    'median': statistics.median(prices),\n",
    "    'n': len(prices)\n",
    "    }\n",
    "\n",
    "def get_prices(query, category):\n",
    "    page = getEbaySoldListings(query, category)\n",
    "    soup = BeautifulSoup(page.content)\n",
    "    prices = []\n",
    "    for el in soup.select('#ResultSetItems')[0].select('.bidsold'):\n",
    "        try:\n",
    "            elText = el.text.strip('EUR ').replace('.','').replace(',', '.')\n",
    "            price = float(elText)\n",
    "            prices.append(price)\n",
    "        except Exception as e:\n",
    "            print(e)\n",
    "    return prices"
   ]
  },
  {
   "cell_type": "code",
   "execution_count": 119,
   "id": "advance-turner",
   "metadata": {},
   "outputs": [],
   "source": [
    "    page = getEbaySoldListings('sargent')\n",
    "    soup = BeautifulSoup(page.content)"
   ]
  },
  {
   "cell_type": "code",
   "execution_count": 120,
   "id": "sharp-child",
   "metadata": {},
   "outputs": [
    {
     "data": {
      "text/plain": [
       "2"
      ]
     },
     "execution_count": 120,
     "metadata": {},
     "output_type": "execute_result"
    }
   ],
   "source": [
    "len(soup.select('#ResultSetItems')[0].select('.bidsold'))"
   ]
  },
  {
   "cell_type": "code",
   "execution_count": 118,
   "id": "agreed-cement",
   "metadata": {},
   "outputs": [
    {
     "data": {
      "text/plain": [
       "{'mean': 32.255,\n",
       " 'quantiles': [13.137500000000003, 32.255, 51.3725],\n",
       " 'stdev': 18.024151852445094,\n",
       " 'median': 32.255}"
      ]
     },
     "execution_count": 118,
     "metadata": {},
     "output_type": "execute_result"
    }
   ],
   "source": [
    "history_stats('alfred sargent')"
   ]
  },
  {
   "cell_type": "code",
   "execution_count": 129,
   "id": "continuous-dream",
   "metadata": {},
   "outputs": [
    {
     "data": {
      "text/plain": [
       "{'mean': 72.83333333333333,\n",
       " 'quantiles': [40.5, 79.0, 99.0],\n",
       " 'stdev': 29.73353886326573,\n",
       " 'median': 79.0,\n",
       " 'n': 3}"
      ]
     },
     "execution_count": 129,
     "metadata": {},
     "output_type": "execute_result"
    }
   ],
   "source": [
    "history_stats('carlos santos')"
   ]
  },
  {
   "cell_type": "code",
   "execution_count": 127,
   "id": "excess-hotel",
   "metadata": {},
   "outputs": [
    {
     "data": {
      "text/plain": [
       "{'mean': 112.91767441860465,\n",
       " 'quantiles': [58.45, 91.0, 150.0],\n",
       " 'stdev': 85.48299721880674,\n",
       " 'median': 91.0,\n",
       " 'n': 43}"
      ]
     },
     "execution_count": 127,
     "metadata": {},
     "output_type": "execute_result"
    }
   ],
   "source": [
    "history_stats('crockett')"
   ]
  },
  {
   "cell_type": "code",
   "execution_count": 117,
   "id": "better-slovak",
   "metadata": {},
   "outputs": [
    {
     "data": {
      "text/plain": [
       "{'mean': 85.44285714285715,\n",
       " 'quantiles': [38.1, 65.0, 91.0],\n",
       " 'stdev': 70.63313332855569,\n",
       " 'median': 65.0}"
      ]
     },
     "execution_count": 117,
     "metadata": {},
     "output_type": "execute_result"
    }
   ],
   "source": [
    "history_stats('heschung')"
   ]
  },
  {
   "cell_type": "code",
   "execution_count": 121,
   "id": "preliminary-andrews",
   "metadata": {},
   "outputs": [
    {
     "data": {
      "text/plain": [
       "{'mean': 124.48081967213115,\n",
       " 'quantiles': [60.5, 99.0, 147.5],\n",
       " 'stdev': 92.05994404544397,\n",
       " 'median': 99.0}"
      ]
     },
     "execution_count": 121,
     "metadata": {},
     "output_type": "execute_result"
    }
   ],
   "source": [
    "history_stats('alden')"
   ]
  },
  {
   "cell_type": "code",
   "execution_count": 179,
   "id": "renewable-harassment",
   "metadata": {},
   "outputs": [],
   "source": [
    "import requests\n",
    "\n",
    "def getEbaySoldListings(query, category='shoes'):\n",
    "    COOKIE = \"dp1=bu1p/Y2FycGVyZXotLTQz6547d396^kms/in6547d396^pbf/%23200000040006000008080800000046366a016^u1f/Carlos6547d396^expt/000162781697594661f71dd0^bl/DK6547d396^; nonsession=BAQAAAXw0ACieAAaAAAQADGNkBmpjYXJwZXJlei0tNDMACAAdYaz5ljE2MzYxMzQwMjR4MzkzNjc5MDc0ODYxeDc3eDJOABAADGNmoBZjYXJwZXJlei0tNDMAMwAIY2agFjI1MDAsRE5LAEAADGNmoBZjYXJwZXJlei0tNDMAmgANYYV16mNhcnBlcmV6LS00M2cAnAA4Y2agFm5ZK3NIWjJQckJtZGo2d1ZuWStzRVoyUHJBMmRqNk1FbVlxaUNwYUtvZ3VkajZ4OW5ZK3NlUT09AJ0ACGNmoBYwMDAwMDAwMQDKACBlR9OWMDE3Mzc5YzYxN2IwYWNmYmJhZjc2MzI1ZmZiMGVlZjQAywACYYVznjQ0AWQAB2VH05YjMDAwMDhhbNMmvELYoUHkNXqgW85oeDCaGMw*; npii=btguid/017379c617b0acfbbaf76325ffb0eef46547d3cc^cguid/017380c217b0ab391fe5e375fe8c423e6547d3cc^; cid=XXt591NwKg09kWdk%231043307834; __uzma=c709c611-613b-49c4-965d-0cc26a59e6b4; __uzmb=1627816963; __uzmc=7907573063694; __uzmd=1636090788; __uzme=6611; __uzmf=7f3000c709c611-613b-49c4-965d-0cc26a59e6b4b2fdf19efd78610d730; __ssds=2; __ssuzjsr2=a9be0cd8e; ns1=BAQAAAXw0ACieAAaAAKUADWNmoBYyMDk4MzI2ODM3LzA7ANgAXGNmoBZjODh8NjAxXjE2Mjg3MjA3MDA3NjleWTJGeWNHVnlaWG90TFRRel4xXjN8Mnw1fDR8N3wxMV4xXjJeNF4zXjEyXjEyXjJeMV4xXjBeMV4wXjFeNjQ0MjQ1OTA3NQHsH5t2xOVFQKocmcMNxEwxpMUk; __gads=ID=3ca62e16acdc5c81-2277e6cb92c8008a:T=1627816998:S=ALNI_MayDgBgJ088gmeufpuA4HZa5eB14Q; AMCV_A71B5B5B54F607AB0A4C98A2%40AdobeOrg=-408604571%7CMCMID%7C72998261422602283993358677858849390988%7CMCAAMLH-1636737933%7C6%7CMCAAMB-1636737933%7C6G1ynYcLPuiQxYZrsz_pkqfLG9yMXBpb2zX5dvJdYQJzPXImdj0y%7CMCCIDH%7C-816914968%7CMCOPTOUT-1636140333s%7CNONE%7CMCSYNCS%7C81841-18855%7CMCSYNCSOP%7C411-18943%7CvVersion%7C4.6.0; __uzmaj2=06e3d2f6-4e26-46c7-8239-697ede2cf552; __uzmbj2=1628720717; __uzmcj2=3923238262430; __uzmdj2=1636133216; JSESSIONID=E64AD3B818945D71853F0816B2208BC5; ebay=%5Ejs%3D1%5EsfLMD%3D0%5Ecv%3D15555%5Esin%3Din%5Esbf%3D%2340c00000000010000180094%5E; s=BAQAAAXw0ACieAAWAAAMAAWGGvggwAAwACmGGvggyMDk4MzI2ODM3AD0ADGGGvghjYXJwZXJlei0tNDMA7gBWYYa+CDEGaHR0cHM6Ly93d3cuZWJheS5kZS9teWUvbXllYmF5L3dhdGNobGlzdD9jdXN0b21fbGlzdF9pZD1XQVRDSF9MSVNUJnNvcnQ9bW9zdF9yZWNlbnQHAPgAIGGGvggwMTczNzljNjE3YjBhY2ZiYmFmNzYzMjVmZmIwZWVmNAFlAANhhr4IIzAyQ7x6IIbW6Ca7hScY7ZN9fF/C2zc*; AMCVS_A71B5B5B54F607AB0A4C98A2%40AdobeOrg=1; cssg=017379c617b0acfbbaf76325ffb0eef4; ds1=ats/1635963626133; shs=BAQAAAXzOfvCbAAaAAVUAD2NkBmoyMDc1MTgzMTkyMDA1LDL9lJ/7731Cqi8gXblcp6D6wHJo6A**; ak_bmsc=BF475F8665DCFDE420DAB89696A94753~000000000000000000000000000000~YAAQtptkX5cx9el8AQAAvzMi8Q1zrYNqanP6fOyOkoS4/NECQtDA7uFH2HfstWVGbk1fWpJuzSWkpmm6P4bB94VzGNyTPjSrYIrjUTEdCNK1z8SjEypTDbQCnsZUN11G+B+WKWaZ2LlrRdfIan/AnSSrEBOH01whIXgoIZsfgDsO+qj0y+KDzWC6Vgt1t4IQjgS7dqGqbZ/EimAEiyqXx7NuB/UQ19wxWLoQRx7T1WtQUSjlTsIArCu/PiYzVUMPcDqqPM4236tVILF9ffN4A2R5jMORdfFBuXDWMnP6YWfFozMzeLmuuH+Tp6XX+qHMqtC6a7bdL+wS9KZ3xxmvhZhF1Odh30I0eFwrgZuhOBsY3kGCcWMHnyzkpy7tzMibt6iCD70C; bm_sv=244B1A95AABEDD3FFEFB21CCA3935088~FF1reNqRlBUiR6fNZUv0WiWXMh5ptIGDHSPNhsAPTdrxYg2eEbu401A3+QZMn9fwU3Vn+HVGrqRKabWpd71Bhs9+mAdyvg/26avJnLdz7GYmRIdd8aG2LIUTnVbx2PY4/T/+YstY+ZtO1DO794XKXw==; ds2=sotr/b7pwxzzzzzzz^; __uzma=c709c611-613b-49c4-965d-0cc26a59e6b4; __uzmb=1627816963; __uzmc=9576668867304; __uzmd=1636055967; __uzme=6611; __uzmf=7f3000c709c611-613b-49c4-965d-0cc26a59e6b45f89ab33a3fc9fb2688; dp1=bexpt/000162781697594661f71dd0^bl/DK6546a2a0^kms/in6546a2a0^pbf/%232000000440060000080808200000463656f20^tzo/-3c618449b0^u1p/Y2FycGVyZXotLTQz6546a2a0^u1f/Carlos6546a2a0^; ebay=%5Ecv%3D15555%5Esin%3Din%5Ejs%3D1%5EsfLMD%3D0%5Esbf%3D%2360c00000000010000080214%5E; nonsession=BAQAAAXzOfvCbAAaAABAADGNlbyBjYXJwZXJlei0tNDMAQAAMY2VvIGNhcnBlcmV6LS00MwAzAAhjZW8gMjUwMCxETksABAAMY2QGamNhcnBlcmV6LS00MwFkAAdlRqKgIzAwMDA4YQAIAB1hq8igMTYzNjA1MDY3NHgxODUxMTI0ODgyNTR4Nzd4MlkAmgANYYV16mNhcnBlcmV6LS00M2cAygAgZUaioDAxNzM3OWM2MTdiMGFjZmJiYWY3NjMyNWZmYjBlZWY0AMsAAmGEQqgxNQCcADhjZW8gblkrc0haMlByQm1kajZ3Vm5ZK3NFWjJQckEyZGo2TUVtWXFpQ3BhS29ndWRqNng5blkrc2VRPT0AnQAIY2VvIDAwMDAwMDAx6Uc21yLSmX5HbnCw3CYOzqdJaoM*; ns1=BAQAAAXzOfvCbAAaAANgAXGNlbyBjODh8NjAxXjE2Mjg3MjA3MDA3NjleWTJGeWNHVnlaWG90TFRRel4xXjN8Mnw1fDR8N3wxMV4xXjJeNF4zXjEyXjEyXjJeMV4xXjBeMV4wXjFeNjQ0MjQ1OTA3NQClAA1jZW8gMjA5ODMyNjgzNy8wO16FS08g39AkT5CBejipomzA1Omb; s=BAQAAAXzOfvCbAAWAAAMAAWGFjSAwAWUAA2GFjSAjMDIA+AAgYYWNIDAxNzM3OWM2MTdiMGFjZmJiYWY3NjMyNWZmYjBlZWY0AAwACmGFjSAyMDk4MzI2ODM3AD0ADGGFjSBjYXJwZXJlei0tNDMA7gDAYYWNIDMGaHR0cHM6Ly93d3cuZWJheS5kZS9zY2gvaS5odG1sP19kbWQ9MSZMSF9BdWN0aW9uPTEmX2Zvc3JwPTEmX29zYWNhdD0wJl9zb3A9MTImTEhfQ29tcGxldGU9MSZfaXBnPTIwMCZfb2Rrdz1hbGRlbiZMSF9Tb2xkPTEmX3NhZGlzPTE1Jl9mcm9tPVI0MCZfdHJrc2lkPXAyMDQ1NTczLm01NzAubDEzMTMmX25rdz15YW5rbyZfc2FjYXQ9MAKpds0+oNpGfqIN57an5votZLzz\"\n",
    "    query = query.replace(' ', '+')\n",
    "    url = f\"https://www.ebay.de/sch/Business-Schuhe/53120/i.html?_clu=2&LH_Auction=1&_fosrp=1&LH_Complete=1&_ipg=200&LH_Sold=1&_dmd=2&gbr=1&_sop=12&_fcid=77&_sadis=15&_from=R40&_nkw={query}&_dcat=53120&rt=nc&_mPrRngCbx=1&_udlo=10&_udhi\"\n",
    "    if category == 'clothes':\n",
    "        clothes = f\"https://www.ebay.de/sch/Herren/260012/i.html?_udlo=&_udhi=&_ftrt=901&_ftrv=1&_sabdlo=&_sabdhi=&_samilow=&_samihi=&_sadis=15&_stpos=&_sop=12&_ipg=25&_fosrp=1&_nkw={query}&rt=nc&_dmd=2&LH_Auction=1\"\n",
    "    payload={}\n",
    "    headers = {\n",
    "      'User-Agent': 'Mozilla/5.0 (X11; Linux x86_64; rv:92.0) Gecko/20100101 Firefox/92.0',\n",
    "      'Accept': 'text/html,application/xhtml+xml,application/xml;q=0.9,image/webp,*/*;q=0.8',\n",
    "      'Accept-Language': 'en-US,en;q=0.5',\n",
    "      'Referer': 'https://www.ebay.de/sch/i.html?_sacat=0&LH_Sold=1&_udlo=&_udhi=&_samilow=&_samihi=&_sadis=15&_stpos=&_sop=12&_dmd=1&LH_Complete=1&_fosrp=1&_ipg=200&_nkw=alden&rt=nc&LH_Auction=1',\n",
    "      'Connection': 'keep-alive',\n",
    "      'Cookie': COOKIE,\n",
    "      'Upgrade-Insecure-Requests': '1',\n",
    "      'Sec-Fetch-Dest': 'document',\n",
    "      'Sec-Fetch-Mode': 'navigate',\n",
    "      'Sec-Fetch-Site': 'same-origin',\n",
    "      'Sec-Fetch-User': '?1',\n",
    "      'Pragma': 'no-cache',\n",
    "      'Cache-Control': 'no-cache',\n",
    "      'TE': 'trailers'\n",
    "    }\n",
    "\n",
    "    return requests.request(\"GET\", url, headers=headers, data=payload)"
   ]
  },
  {
   "cell_type": "code",
   "execution_count": 180,
   "id": "foster-making",
   "metadata": {},
   "outputs": [
    {
     "data": {
      "text/plain": [
       "{'mean': 43.28878787878788,\n",
       " 'quantiles': [28.625, 41.785, 54.0525],\n",
       " 'stdev': 22.557031004521136,\n",
       " 'median': 41.785,\n",
       " 'n': 66}"
      ]
     },
     "execution_count": 180,
     "metadata": {},
     "output_type": "execute_result"
    }
   ],
   "source": [
    "history_stats('dale of norway', 'clothes')"
   ]
  },
  {
   "cell_type": "code",
   "execution_count": 214,
   "id": "comic-statistics",
   "metadata": {},
   "outputs": [
    {
     "name": "stdout",
     "output_type": "stream",
     "text": [
      "[45.0, 12.5, 25.0, 50.79, 41.5, 29.99, 399.0, 13.5, 25.5, 17.5, 15.0, 50.0, 14.5, 81.52]\n"
     ]
    },
    {
     "data": {
      "text/plain": [
       "{'mean': 58.66428571428571,\n",
       " 'quantiles': [14.875, 27.744999999999997, 50.1975],\n",
       " 'stdev': 99.90266676307309,\n",
       " 'median': 27.744999999999997,\n",
       " 'n': 14}"
      ]
     },
     "execution_count": 214,
     "metadata": {},
     "output_type": "execute_result"
    }
   ],
   "source": [
    "history_stats('Handschuhe leder', 'clothes')"
   ]
  },
  {
   "cell_type": "code",
   "execution_count": 143,
   "id": "familiar-boards",
   "metadata": {},
   "outputs": [
    {
     "data": {
      "text/plain": [
       "{'mean': 31.021844660194176,\n",
       " 'quantiles': [15.33, 21.05, 35.0],\n",
       " 'stdev': 24.9047939218408,\n",
       " 'median': 21.05,\n",
       " 'n': 103}"
      ]
     },
     "execution_count": 143,
     "metadata": {},
     "output_type": "execute_result"
    }
   ],
   "source": [
    "history_stats('aran', 'clothes')"
   ]
  },
  {
   "cell_type": "code",
   "execution_count": 178,
   "id": "charged-payday",
   "metadata": {},
   "outputs": [
    {
     "ename": "UnicodeEncodeError",
     "evalue": "'latin-1' codec can't encode character '\\u2026' in position 512: ordinal not in range(256)",
     "output_type": "error",
     "traceback": [
      "\u001b[0;31m---------------------------------------------------------------------------\u001b[0m",
      "\u001b[0;31mUnicodeEncodeError\u001b[0m                        Traceback (most recent call last)",
      "\u001b[0;32m<ipython-input-178-55ce4d42e79a>\u001b[0m in \u001b[0;36m<module>\u001b[0;34m\u001b[0m\n\u001b[0;32m----> 1\u001b[0;31m \u001b[0mhistory_stats\u001b[0m\u001b[0;34m(\u001b[0m\u001b[0;34m'pulli merino'\u001b[0m\u001b[0;34m,\u001b[0m \u001b[0;34m'clothes'\u001b[0m\u001b[0;34m)\u001b[0m\u001b[0;34m\u001b[0m\u001b[0;34m\u001b[0m\u001b[0m\n\u001b[0m",
      "\u001b[0;32m<ipython-input-174-2dadb4040d98>\u001b[0m in \u001b[0;36mhistory_stats\u001b[0;34m(query, category)\u001b[0m\n\u001b[1;32m      5\u001b[0m \u001b[0;34m\u001b[0m\u001b[0m\n\u001b[1;32m      6\u001b[0m \u001b[0;32mdef\u001b[0m \u001b[0mhistory_stats\u001b[0m\u001b[0;34m(\u001b[0m\u001b[0mquery\u001b[0m\u001b[0;34m,\u001b[0m \u001b[0mcategory\u001b[0m\u001b[0;34m=\u001b[0m\u001b[0;34m'shoes'\u001b[0m\u001b[0;34m)\u001b[0m\u001b[0;34m:\u001b[0m\u001b[0;34m\u001b[0m\u001b[0;34m\u001b[0m\u001b[0m\n\u001b[0;32m----> 7\u001b[0;31m     \u001b[0mprices\u001b[0m \u001b[0;34m=\u001b[0m \u001b[0mget_prices\u001b[0m\u001b[0;34m(\u001b[0m\u001b[0mquery\u001b[0m\u001b[0;34m,\u001b[0m \u001b[0mcategory\u001b[0m\u001b[0;34m)\u001b[0m\u001b[0;34m\u001b[0m\u001b[0;34m\u001b[0m\u001b[0m\n\u001b[0m\u001b[1;32m      8\u001b[0m     return {\n\u001b[1;32m      9\u001b[0m     \u001b[0;34m'mean'\u001b[0m\u001b[0;34m:\u001b[0m \u001b[0mstatistics\u001b[0m\u001b[0;34m.\u001b[0m\u001b[0mmean\u001b[0m\u001b[0;34m(\u001b[0m\u001b[0mprices\u001b[0m\u001b[0;34m)\u001b[0m\u001b[0;34m,\u001b[0m\u001b[0;34m\u001b[0m\u001b[0;34m\u001b[0m\u001b[0m\n",
      "\u001b[0;32m<ipython-input-174-2dadb4040d98>\u001b[0m in \u001b[0;36mget_prices\u001b[0;34m(query, category)\u001b[0m\n\u001b[1;32m     15\u001b[0m \u001b[0;34m\u001b[0m\u001b[0m\n\u001b[1;32m     16\u001b[0m \u001b[0;32mdef\u001b[0m \u001b[0mget_prices\u001b[0m\u001b[0;34m(\u001b[0m\u001b[0mquery\u001b[0m\u001b[0;34m,\u001b[0m \u001b[0mcategory\u001b[0m\u001b[0;34m)\u001b[0m\u001b[0;34m:\u001b[0m\u001b[0;34m\u001b[0m\u001b[0;34m\u001b[0m\u001b[0m\n\u001b[0;32m---> 17\u001b[0;31m     \u001b[0mpage\u001b[0m \u001b[0;34m=\u001b[0m \u001b[0mgetEbaySoldListings\u001b[0m\u001b[0;34m(\u001b[0m\u001b[0mquery\u001b[0m\u001b[0;34m,\u001b[0m \u001b[0mcategory\u001b[0m\u001b[0;34m)\u001b[0m\u001b[0;34m\u001b[0m\u001b[0;34m\u001b[0m\u001b[0m\n\u001b[0m\u001b[1;32m     18\u001b[0m     \u001b[0msoup\u001b[0m \u001b[0;34m=\u001b[0m \u001b[0mBeautifulSoup\u001b[0m\u001b[0;34m(\u001b[0m\u001b[0mpage\u001b[0m\u001b[0;34m.\u001b[0m\u001b[0mcontent\u001b[0m\u001b[0;34m)\u001b[0m\u001b[0;34m\u001b[0m\u001b[0;34m\u001b[0m\u001b[0m\n\u001b[1;32m     19\u001b[0m     \u001b[0mprices\u001b[0m \u001b[0;34m=\u001b[0m \u001b[0;34m[\u001b[0m\u001b[0;34m]\u001b[0m\u001b[0;34m\u001b[0m\u001b[0;34m\u001b[0m\u001b[0m\n",
      "\u001b[0;32m<ipython-input-176-ab8b3c80eb0b>\u001b[0m in \u001b[0;36mgetEbaySoldListings\u001b[0;34m(query, category)\u001b[0m\n\u001b[1;32m     25\u001b[0m     }\n\u001b[1;32m     26\u001b[0m \u001b[0;34m\u001b[0m\u001b[0m\n\u001b[0;32m---> 27\u001b[0;31m     \u001b[0;32mreturn\u001b[0m \u001b[0mrequests\u001b[0m\u001b[0;34m.\u001b[0m\u001b[0mrequest\u001b[0m\u001b[0;34m(\u001b[0m\u001b[0;34m\"GET\"\u001b[0m\u001b[0;34m,\u001b[0m \u001b[0murl\u001b[0m\u001b[0;34m,\u001b[0m \u001b[0mheaders\u001b[0m\u001b[0;34m=\u001b[0m\u001b[0mheaders\u001b[0m\u001b[0;34m,\u001b[0m \u001b[0mdata\u001b[0m\u001b[0;34m=\u001b[0m\u001b[0mpayload\u001b[0m\u001b[0;34m)\u001b[0m\u001b[0;34m\u001b[0m\u001b[0;34m\u001b[0m\u001b[0m\n\u001b[0m",
      "\u001b[0;32m/usr/lib/python3.9/site-packages/requests/api.py\u001b[0m in \u001b[0;36mrequest\u001b[0;34m(method, url, **kwargs)\u001b[0m\n\u001b[1;32m     59\u001b[0m     \u001b[0;31m# cases, and look like a memory leak in others.\u001b[0m\u001b[0;34m\u001b[0m\u001b[0;34m\u001b[0m\u001b[0m\n\u001b[1;32m     60\u001b[0m     \u001b[0;32mwith\u001b[0m \u001b[0msessions\u001b[0m\u001b[0;34m.\u001b[0m\u001b[0mSession\u001b[0m\u001b[0;34m(\u001b[0m\u001b[0;34m)\u001b[0m \u001b[0;32mas\u001b[0m \u001b[0msession\u001b[0m\u001b[0;34m:\u001b[0m\u001b[0;34m\u001b[0m\u001b[0;34m\u001b[0m\u001b[0m\n\u001b[0;32m---> 61\u001b[0;31m         \u001b[0;32mreturn\u001b[0m \u001b[0msession\u001b[0m\u001b[0;34m.\u001b[0m\u001b[0mrequest\u001b[0m\u001b[0;34m(\u001b[0m\u001b[0mmethod\u001b[0m\u001b[0;34m=\u001b[0m\u001b[0mmethod\u001b[0m\u001b[0;34m,\u001b[0m \u001b[0murl\u001b[0m\u001b[0;34m=\u001b[0m\u001b[0murl\u001b[0m\u001b[0;34m,\u001b[0m \u001b[0;34m**\u001b[0m\u001b[0mkwargs\u001b[0m\u001b[0;34m)\u001b[0m\u001b[0;34m\u001b[0m\u001b[0;34m\u001b[0m\u001b[0m\n\u001b[0m\u001b[1;32m     62\u001b[0m \u001b[0;34m\u001b[0m\u001b[0m\n\u001b[1;32m     63\u001b[0m \u001b[0;34m\u001b[0m\u001b[0m\n",
      "\u001b[0;32m/usr/lib/python3.9/site-packages/requests/sessions.py\u001b[0m in \u001b[0;36mrequest\u001b[0;34m(self, method, url, params, data, headers, cookies, files, auth, timeout, allow_redirects, proxies, hooks, stream, verify, cert, json)\u001b[0m\n\u001b[1;32m    540\u001b[0m         }\n\u001b[1;32m    541\u001b[0m         \u001b[0msend_kwargs\u001b[0m\u001b[0;34m.\u001b[0m\u001b[0mupdate\u001b[0m\u001b[0;34m(\u001b[0m\u001b[0msettings\u001b[0m\u001b[0;34m)\u001b[0m\u001b[0;34m\u001b[0m\u001b[0;34m\u001b[0m\u001b[0m\n\u001b[0;32m--> 542\u001b[0;31m         \u001b[0mresp\u001b[0m \u001b[0;34m=\u001b[0m \u001b[0mself\u001b[0m\u001b[0;34m.\u001b[0m\u001b[0msend\u001b[0m\u001b[0;34m(\u001b[0m\u001b[0mprep\u001b[0m\u001b[0;34m,\u001b[0m \u001b[0;34m**\u001b[0m\u001b[0msend_kwargs\u001b[0m\u001b[0;34m)\u001b[0m\u001b[0;34m\u001b[0m\u001b[0;34m\u001b[0m\u001b[0m\n\u001b[0m\u001b[1;32m    543\u001b[0m \u001b[0;34m\u001b[0m\u001b[0m\n\u001b[1;32m    544\u001b[0m         \u001b[0;32mreturn\u001b[0m \u001b[0mresp\u001b[0m\u001b[0;34m\u001b[0m\u001b[0;34m\u001b[0m\u001b[0m\n",
      "\u001b[0;32m/usr/lib/python3.9/site-packages/requests/sessions.py\u001b[0m in \u001b[0;36msend\u001b[0;34m(self, request, **kwargs)\u001b[0m\n\u001b[1;32m    653\u001b[0m \u001b[0;34m\u001b[0m\u001b[0m\n\u001b[1;32m    654\u001b[0m         \u001b[0;31m# Send the request\u001b[0m\u001b[0;34m\u001b[0m\u001b[0;34m\u001b[0m\u001b[0m\n\u001b[0;32m--> 655\u001b[0;31m         \u001b[0mr\u001b[0m \u001b[0;34m=\u001b[0m \u001b[0madapter\u001b[0m\u001b[0;34m.\u001b[0m\u001b[0msend\u001b[0m\u001b[0;34m(\u001b[0m\u001b[0mrequest\u001b[0m\u001b[0;34m,\u001b[0m \u001b[0;34m**\u001b[0m\u001b[0mkwargs\u001b[0m\u001b[0;34m)\u001b[0m\u001b[0;34m\u001b[0m\u001b[0;34m\u001b[0m\u001b[0m\n\u001b[0m\u001b[1;32m    656\u001b[0m \u001b[0;34m\u001b[0m\u001b[0m\n\u001b[1;32m    657\u001b[0m         \u001b[0;31m# Total elapsed time of the request (approximately)\u001b[0m\u001b[0;34m\u001b[0m\u001b[0;34m\u001b[0m\u001b[0m\n",
      "\u001b[0;32m/usr/lib/python3.9/site-packages/requests/adapters.py\u001b[0m in \u001b[0;36msend\u001b[0;34m(self, request, stream, timeout, verify, cert, proxies)\u001b[0m\n\u001b[1;32m    437\u001b[0m         \u001b[0;32mtry\u001b[0m\u001b[0;34m:\u001b[0m\u001b[0;34m\u001b[0m\u001b[0;34m\u001b[0m\u001b[0m\n\u001b[1;32m    438\u001b[0m             \u001b[0;32mif\u001b[0m \u001b[0;32mnot\u001b[0m \u001b[0mchunked\u001b[0m\u001b[0;34m:\u001b[0m\u001b[0;34m\u001b[0m\u001b[0;34m\u001b[0m\u001b[0m\n\u001b[0;32m--> 439\u001b[0;31m                 resp = conn.urlopen(\n\u001b[0m\u001b[1;32m    440\u001b[0m                     \u001b[0mmethod\u001b[0m\u001b[0;34m=\u001b[0m\u001b[0mrequest\u001b[0m\u001b[0;34m.\u001b[0m\u001b[0mmethod\u001b[0m\u001b[0;34m,\u001b[0m\u001b[0;34m\u001b[0m\u001b[0;34m\u001b[0m\u001b[0m\n\u001b[1;32m    441\u001b[0m                     \u001b[0murl\u001b[0m\u001b[0;34m=\u001b[0m\u001b[0murl\u001b[0m\u001b[0;34m,\u001b[0m\u001b[0;34m\u001b[0m\u001b[0;34m\u001b[0m\u001b[0m\n",
      "\u001b[0;32m/usr/lib/python3.9/site-packages/urllib3/connectionpool.py\u001b[0m in \u001b[0;36murlopen\u001b[0;34m(self, method, url, body, headers, retries, redirect, assert_same_host, timeout, pool_timeout, release_conn, chunked, body_pos, **response_kw)\u001b[0m\n\u001b[1;32m    697\u001b[0m \u001b[0;34m\u001b[0m\u001b[0m\n\u001b[1;32m    698\u001b[0m             \u001b[0;31m# Make the request on the httplib connection object.\u001b[0m\u001b[0;34m\u001b[0m\u001b[0;34m\u001b[0m\u001b[0m\n\u001b[0;32m--> 699\u001b[0;31m             httplib_response = self._make_request(\n\u001b[0m\u001b[1;32m    700\u001b[0m                 \u001b[0mconn\u001b[0m\u001b[0;34m,\u001b[0m\u001b[0;34m\u001b[0m\u001b[0;34m\u001b[0m\u001b[0m\n\u001b[1;32m    701\u001b[0m                 \u001b[0mmethod\u001b[0m\u001b[0;34m,\u001b[0m\u001b[0;34m\u001b[0m\u001b[0;34m\u001b[0m\u001b[0m\n",
      "\u001b[0;32m/usr/lib/python3.9/site-packages/urllib3/connectionpool.py\u001b[0m in \u001b[0;36m_make_request\u001b[0;34m(self, conn, method, url, timeout, chunked, **httplib_request_kw)\u001b[0m\n\u001b[1;32m    392\u001b[0m                 \u001b[0mconn\u001b[0m\u001b[0;34m.\u001b[0m\u001b[0mrequest_chunked\u001b[0m\u001b[0;34m(\u001b[0m\u001b[0mmethod\u001b[0m\u001b[0;34m,\u001b[0m \u001b[0murl\u001b[0m\u001b[0;34m,\u001b[0m \u001b[0;34m**\u001b[0m\u001b[0mhttplib_request_kw\u001b[0m\u001b[0;34m)\u001b[0m\u001b[0;34m\u001b[0m\u001b[0;34m\u001b[0m\u001b[0m\n\u001b[1;32m    393\u001b[0m             \u001b[0;32melse\u001b[0m\u001b[0;34m:\u001b[0m\u001b[0;34m\u001b[0m\u001b[0;34m\u001b[0m\u001b[0m\n\u001b[0;32m--> 394\u001b[0;31m                 \u001b[0mconn\u001b[0m\u001b[0;34m.\u001b[0m\u001b[0mrequest\u001b[0m\u001b[0;34m(\u001b[0m\u001b[0mmethod\u001b[0m\u001b[0;34m,\u001b[0m \u001b[0murl\u001b[0m\u001b[0;34m,\u001b[0m \u001b[0;34m**\u001b[0m\u001b[0mhttplib_request_kw\u001b[0m\u001b[0;34m)\u001b[0m\u001b[0;34m\u001b[0m\u001b[0;34m\u001b[0m\u001b[0m\n\u001b[0m\u001b[1;32m    395\u001b[0m \u001b[0;34m\u001b[0m\u001b[0m\n\u001b[1;32m    396\u001b[0m         \u001b[0;31m# We are swallowing BrokenPipeError (errno.EPIPE) since the server is\u001b[0m\u001b[0;34m\u001b[0m\u001b[0;34m\u001b[0m\u001b[0m\n",
      "\u001b[0;32m/usr/lib/python3.9/site-packages/urllib3/connection.py\u001b[0m in \u001b[0;36mrequest\u001b[0;34m(self, method, url, body, headers)\u001b[0m\n\u001b[1;32m    232\u001b[0m         \u001b[0;32mif\u001b[0m \u001b[0;34m\"user-agent\"\u001b[0m \u001b[0;32mnot\u001b[0m \u001b[0;32min\u001b[0m \u001b[0;34m(\u001b[0m\u001b[0msix\u001b[0m\u001b[0;34m.\u001b[0m\u001b[0mensure_str\u001b[0m\u001b[0;34m(\u001b[0m\u001b[0mk\u001b[0m\u001b[0;34m.\u001b[0m\u001b[0mlower\u001b[0m\u001b[0;34m(\u001b[0m\u001b[0;34m)\u001b[0m\u001b[0;34m)\u001b[0m \u001b[0;32mfor\u001b[0m \u001b[0mk\u001b[0m \u001b[0;32min\u001b[0m \u001b[0mheaders\u001b[0m\u001b[0;34m)\u001b[0m\u001b[0;34m:\u001b[0m\u001b[0;34m\u001b[0m\u001b[0;34m\u001b[0m\u001b[0m\n\u001b[1;32m    233\u001b[0m             \u001b[0mheaders\u001b[0m\u001b[0;34m[\u001b[0m\u001b[0;34m\"User-Agent\"\u001b[0m\u001b[0;34m]\u001b[0m \u001b[0;34m=\u001b[0m \u001b[0m_get_default_user_agent\u001b[0m\u001b[0;34m(\u001b[0m\u001b[0;34m)\u001b[0m\u001b[0;34m\u001b[0m\u001b[0;34m\u001b[0m\u001b[0m\n\u001b[0;32m--> 234\u001b[0;31m         \u001b[0msuper\u001b[0m\u001b[0;34m(\u001b[0m\u001b[0mHTTPConnection\u001b[0m\u001b[0;34m,\u001b[0m \u001b[0mself\u001b[0m\u001b[0;34m)\u001b[0m\u001b[0;34m.\u001b[0m\u001b[0mrequest\u001b[0m\u001b[0;34m(\u001b[0m\u001b[0mmethod\u001b[0m\u001b[0;34m,\u001b[0m \u001b[0murl\u001b[0m\u001b[0;34m,\u001b[0m \u001b[0mbody\u001b[0m\u001b[0;34m=\u001b[0m\u001b[0mbody\u001b[0m\u001b[0;34m,\u001b[0m \u001b[0mheaders\u001b[0m\u001b[0;34m=\u001b[0m\u001b[0mheaders\u001b[0m\u001b[0;34m)\u001b[0m\u001b[0;34m\u001b[0m\u001b[0;34m\u001b[0m\u001b[0m\n\u001b[0m\u001b[1;32m    235\u001b[0m \u001b[0;34m\u001b[0m\u001b[0m\n\u001b[1;32m    236\u001b[0m     \u001b[0;32mdef\u001b[0m \u001b[0mrequest_chunked\u001b[0m\u001b[0;34m(\u001b[0m\u001b[0mself\u001b[0m\u001b[0;34m,\u001b[0m \u001b[0mmethod\u001b[0m\u001b[0;34m,\u001b[0m \u001b[0murl\u001b[0m\u001b[0;34m,\u001b[0m \u001b[0mbody\u001b[0m\u001b[0;34m=\u001b[0m\u001b[0;32mNone\u001b[0m\u001b[0;34m,\u001b[0m \u001b[0mheaders\u001b[0m\u001b[0;34m=\u001b[0m\u001b[0;32mNone\u001b[0m\u001b[0;34m)\u001b[0m\u001b[0;34m:\u001b[0m\u001b[0;34m\u001b[0m\u001b[0;34m\u001b[0m\u001b[0m\n",
      "\u001b[0;32m/usr/lib/python3.9/http/client.py\u001b[0m in \u001b[0;36mrequest\u001b[0;34m(self, method, url, body, headers, encode_chunked)\u001b[0m\n\u001b[1;32m   1277\u001b[0m                 encode_chunked=False):\n\u001b[1;32m   1278\u001b[0m         \u001b[0;34m\"\"\"Send a complete request to the server.\"\"\"\u001b[0m\u001b[0;34m\u001b[0m\u001b[0;34m\u001b[0m\u001b[0m\n\u001b[0;32m-> 1279\u001b[0;31m         \u001b[0mself\u001b[0m\u001b[0;34m.\u001b[0m\u001b[0m_send_request\u001b[0m\u001b[0;34m(\u001b[0m\u001b[0mmethod\u001b[0m\u001b[0;34m,\u001b[0m \u001b[0murl\u001b[0m\u001b[0;34m,\u001b[0m \u001b[0mbody\u001b[0m\u001b[0;34m,\u001b[0m \u001b[0mheaders\u001b[0m\u001b[0;34m,\u001b[0m \u001b[0mencode_chunked\u001b[0m\u001b[0;34m)\u001b[0m\u001b[0;34m\u001b[0m\u001b[0;34m\u001b[0m\u001b[0m\n\u001b[0m\u001b[1;32m   1280\u001b[0m \u001b[0;34m\u001b[0m\u001b[0m\n\u001b[1;32m   1281\u001b[0m     \u001b[0;32mdef\u001b[0m \u001b[0m_send_request\u001b[0m\u001b[0;34m(\u001b[0m\u001b[0mself\u001b[0m\u001b[0;34m,\u001b[0m \u001b[0mmethod\u001b[0m\u001b[0;34m,\u001b[0m \u001b[0murl\u001b[0m\u001b[0;34m,\u001b[0m \u001b[0mbody\u001b[0m\u001b[0;34m,\u001b[0m \u001b[0mheaders\u001b[0m\u001b[0;34m,\u001b[0m \u001b[0mencode_chunked\u001b[0m\u001b[0;34m)\u001b[0m\u001b[0;34m:\u001b[0m\u001b[0;34m\u001b[0m\u001b[0;34m\u001b[0m\u001b[0m\n",
      "\u001b[0;32m/usr/lib/python3.9/http/client.py\u001b[0m in \u001b[0;36m_send_request\u001b[0;34m(self, method, url, body, headers, encode_chunked)\u001b[0m\n\u001b[1;32m   1318\u001b[0m \u001b[0;34m\u001b[0m\u001b[0m\n\u001b[1;32m   1319\u001b[0m         \u001b[0;32mfor\u001b[0m \u001b[0mhdr\u001b[0m\u001b[0;34m,\u001b[0m \u001b[0mvalue\u001b[0m \u001b[0;32min\u001b[0m \u001b[0mheaders\u001b[0m\u001b[0;34m.\u001b[0m\u001b[0mitems\u001b[0m\u001b[0;34m(\u001b[0m\u001b[0;34m)\u001b[0m\u001b[0;34m:\u001b[0m\u001b[0;34m\u001b[0m\u001b[0;34m\u001b[0m\u001b[0m\n\u001b[0;32m-> 1320\u001b[0;31m             \u001b[0mself\u001b[0m\u001b[0;34m.\u001b[0m\u001b[0mputheader\u001b[0m\u001b[0;34m(\u001b[0m\u001b[0mhdr\u001b[0m\u001b[0;34m,\u001b[0m \u001b[0mvalue\u001b[0m\u001b[0;34m)\u001b[0m\u001b[0;34m\u001b[0m\u001b[0;34m\u001b[0m\u001b[0m\n\u001b[0m\u001b[1;32m   1321\u001b[0m         \u001b[0;32mif\u001b[0m \u001b[0misinstance\u001b[0m\u001b[0;34m(\u001b[0m\u001b[0mbody\u001b[0m\u001b[0;34m,\u001b[0m \u001b[0mstr\u001b[0m\u001b[0;34m)\u001b[0m\u001b[0;34m:\u001b[0m\u001b[0;34m\u001b[0m\u001b[0;34m\u001b[0m\u001b[0m\n\u001b[1;32m   1322\u001b[0m             \u001b[0;31m# RFC 2616 Section 3.7.1 says that text default has a\u001b[0m\u001b[0;34m\u001b[0m\u001b[0;34m\u001b[0m\u001b[0m\n",
      "\u001b[0;32m/usr/lib/python3.9/site-packages/urllib3/connection.py\u001b[0m in \u001b[0;36mputheader\u001b[0;34m(self, header, *values)\u001b[0m\n\u001b[1;32m    217\u001b[0m         \u001b[0;34m\"\"\" \"\"\"\u001b[0m\u001b[0;34m\u001b[0m\u001b[0;34m\u001b[0m\u001b[0m\n\u001b[1;32m    218\u001b[0m         \u001b[0;32mif\u001b[0m \u001b[0;32mnot\u001b[0m \u001b[0many\u001b[0m\u001b[0;34m(\u001b[0m\u001b[0misinstance\u001b[0m\u001b[0;34m(\u001b[0m\u001b[0mv\u001b[0m\u001b[0;34m,\u001b[0m \u001b[0mstr\u001b[0m\u001b[0;34m)\u001b[0m \u001b[0;32mand\u001b[0m \u001b[0mv\u001b[0m \u001b[0;34m==\u001b[0m \u001b[0mSKIP_HEADER\u001b[0m \u001b[0;32mfor\u001b[0m \u001b[0mv\u001b[0m \u001b[0;32min\u001b[0m \u001b[0mvalues\u001b[0m\u001b[0;34m)\u001b[0m\u001b[0;34m:\u001b[0m\u001b[0;34m\u001b[0m\u001b[0;34m\u001b[0m\u001b[0m\n\u001b[0;32m--> 219\u001b[0;31m             \u001b[0m_HTTPConnection\u001b[0m\u001b[0;34m.\u001b[0m\u001b[0mputheader\u001b[0m\u001b[0;34m(\u001b[0m\u001b[0mself\u001b[0m\u001b[0;34m,\u001b[0m \u001b[0mheader\u001b[0m\u001b[0;34m,\u001b[0m \u001b[0;34m*\u001b[0m\u001b[0mvalues\u001b[0m\u001b[0;34m)\u001b[0m\u001b[0;34m\u001b[0m\u001b[0;34m\u001b[0m\u001b[0m\n\u001b[0m\u001b[1;32m    220\u001b[0m         \u001b[0;32melif\u001b[0m \u001b[0msix\u001b[0m\u001b[0;34m.\u001b[0m\u001b[0mensure_str\u001b[0m\u001b[0;34m(\u001b[0m\u001b[0mheader\u001b[0m\u001b[0;34m.\u001b[0m\u001b[0mlower\u001b[0m\u001b[0;34m(\u001b[0m\u001b[0;34m)\u001b[0m\u001b[0;34m)\u001b[0m \u001b[0;32mnot\u001b[0m \u001b[0;32min\u001b[0m \u001b[0mSKIPPABLE_HEADERS\u001b[0m\u001b[0;34m:\u001b[0m\u001b[0;34m\u001b[0m\u001b[0;34m\u001b[0m\u001b[0m\n\u001b[1;32m    221\u001b[0m             raise ValueError(\n",
      "\u001b[0;32m/usr/lib/python3.9/http/client.py\u001b[0m in \u001b[0;36mputheader\u001b[0;34m(self, header, *values)\u001b[0m\n\u001b[1;32m   1250\u001b[0m         \u001b[0;32mfor\u001b[0m \u001b[0mi\u001b[0m\u001b[0;34m,\u001b[0m \u001b[0mone_value\u001b[0m \u001b[0;32min\u001b[0m \u001b[0menumerate\u001b[0m\u001b[0;34m(\u001b[0m\u001b[0mvalues\u001b[0m\u001b[0;34m)\u001b[0m\u001b[0;34m:\u001b[0m\u001b[0;34m\u001b[0m\u001b[0;34m\u001b[0m\u001b[0m\n\u001b[1;32m   1251\u001b[0m             \u001b[0;32mif\u001b[0m \u001b[0mhasattr\u001b[0m\u001b[0;34m(\u001b[0m\u001b[0mone_value\u001b[0m\u001b[0;34m,\u001b[0m \u001b[0;34m'encode'\u001b[0m\u001b[0;34m)\u001b[0m\u001b[0;34m:\u001b[0m\u001b[0;34m\u001b[0m\u001b[0;34m\u001b[0m\u001b[0m\n\u001b[0;32m-> 1252\u001b[0;31m                 \u001b[0mvalues\u001b[0m\u001b[0;34m[\u001b[0m\u001b[0mi\u001b[0m\u001b[0;34m]\u001b[0m \u001b[0;34m=\u001b[0m \u001b[0mone_value\u001b[0m\u001b[0;34m.\u001b[0m\u001b[0mencode\u001b[0m\u001b[0;34m(\u001b[0m\u001b[0;34m'latin-1'\u001b[0m\u001b[0;34m)\u001b[0m\u001b[0;34m\u001b[0m\u001b[0;34m\u001b[0m\u001b[0m\n\u001b[0m\u001b[1;32m   1253\u001b[0m             \u001b[0;32melif\u001b[0m \u001b[0misinstance\u001b[0m\u001b[0;34m(\u001b[0m\u001b[0mone_value\u001b[0m\u001b[0;34m,\u001b[0m \u001b[0mint\u001b[0m\u001b[0;34m)\u001b[0m\u001b[0;34m:\u001b[0m\u001b[0;34m\u001b[0m\u001b[0;34m\u001b[0m\u001b[0m\n\u001b[1;32m   1254\u001b[0m                 \u001b[0mvalues\u001b[0m\u001b[0;34m[\u001b[0m\u001b[0mi\u001b[0m\u001b[0;34m]\u001b[0m \u001b[0;34m=\u001b[0m \u001b[0mstr\u001b[0m\u001b[0;34m(\u001b[0m\u001b[0mone_value\u001b[0m\u001b[0;34m)\u001b[0m\u001b[0;34m.\u001b[0m\u001b[0mencode\u001b[0m\u001b[0;34m(\u001b[0m\u001b[0;34m'ascii'\u001b[0m\u001b[0;34m)\u001b[0m\u001b[0;34m\u001b[0m\u001b[0;34m\u001b[0m\u001b[0m\n",
      "\u001b[0;31mUnicodeEncodeError\u001b[0m: 'latin-1' codec can't encode character '\\u2026' in position 512: ordinal not in range(256)"
     ]
    }
   ],
   "source": [
    "history_stats('pulli merino', 'clothes')"
   ]
  },
  {
   "cell_type": "code",
   "execution_count": 150,
   "id": "collectible-potential",
   "metadata": {},
   "outputs": [
    {
     "data": {
      "text/plain": [
       "{'mean': 32.0,\n",
       " 'quantiles': [27.5, 32.0, 36.5],\n",
       " 'stdev': 4.242640687119285,\n",
       " 'median': 32.0,\n",
       " 'n': 2}"
      ]
     },
     "execution_count": 150,
     "metadata": {},
     "output_type": "execute_result"
    }
   ],
   "source": [
    "history_stats('samsoe pullover alpaka', 'clothes')"
   ]
  },
  {
   "cell_type": "code",
   "execution_count": 212,
   "id": "heated-basic",
   "metadata": {},
   "outputs": [
    {
     "name": "stdout",
     "output_type": "stream",
     "text": [
      "[20.7, 31.55, 32.05, 31.5]\n"
     ]
    },
    {
     "data": {
      "text/plain": [
       "{'mean': 28.95,\n",
       " 'quantiles': [23.4, 31.525, 31.924999999999997],\n",
       " 'stdev': 5.505603206431305,\n",
       " 'median': 31.525,\n",
       " 'n': 4}"
      ]
     },
     "execution_count": 212,
     "metadata": {},
     "output_type": "execute_result"
    }
   ],
   "source": [
    "history_stats('stobi', 'clothes')"
   ]
  },
  {
   "cell_type": "code",
   "execution_count": 213,
   "id": "hazardous-storage",
   "metadata": {},
   "outputs": [
    {
     "name": "stdout",
     "output_type": "stream",
     "text": [
      "[104.0, 89.01, 11.66]\n"
     ]
    },
    {
     "data": {
      "text/plain": [
       "{'mean': 68.22333333333333,\n",
       " 'quantiles': [11.66, 89.01, 104.0],\n",
       " 'stdev': 49.55535322579523,\n",
       " 'median': 89.01,\n",
       " 'n': 3}"
      ]
     },
     "execution_count": 213,
     "metadata": {},
     "output_type": "execute_result"
    }
   ],
   "source": [
    "history_stats('barbour gamefair', 'clothes')"
   ]
  },
  {
   "cell_type": "markdown",
   "id": "surgical-waterproof",
   "metadata": {},
   "source": [
    "I want to develop\n",
    "\n",
    "POST /cookies\n",
    "An endpoint to receive cookies. The cookies will be updated to the newest version. Then a job will be queued to fetch all the histories. Ideally this will be encrypted.\n",
    "\n",
    "POST /bookmark/:id\n",
    "DELETE / bookmark/:id\n",
    "\n",
    "GET /workflow\n",
    "params:\n",
    "- filter= all | new | sniping | not sniping | thinking | ended\n",
    "- All items are basically forms. I can change the state and the comment. Can also unfollow.\n",
    "\n",
    "POST /workflow/:id\n",
    "\n",
    "When an item is bookmarked, a job is queued to fetch more information about the item, such as the end date.\n",
    "Every 5 minutes, a job is executed to fetch the items from bidslammer.\n",
    "So sniping and ended can be set automatically.\n",
    "If an item was sniping and then is no longer being sniped it goes to not sniping.\n",
    "The other state changes are done by the user.\n",
    "\n",
    "Stories:\n",
    "\n",
    "### Scaffolding\n",
    "\n",
    "- Create a mock repository that returns all zeros for the history values.\n",
    "- Create the endpoints.\n",
    "- Create the template.\n",
    "\n",
    "### Bookmarking\n",
    "- Add button to bookmark item on the main view.\n",
    "- Show items in workflow.\n",
    "- Can delete bookmark from workflow view.\n",
    "\n",
    "### Build the workflow model\n",
    "- show all fields in template (defaultify missing ones).\n",
    "- Allow updating state and comment.\n",
    "- Fetch histories to be displayed with bookmarked items.\n",
    "\n",
    "### Add fetch histories job\n",
    "- Fetch when new cookies are received if last fetched is more than 1h ago.\n",
    "- Have a jobs directory where jobs are stored.\n",
    "- `job-<timestamp>.json` and a `.lock` when it is being processed\n",
    "\n",
    "### Add fetch item details job"
   ]
  },
  {
   "cell_type": "code",
   "execution_count": 204,
   "id": "least-removal",
   "metadata": {},
   "outputs": [
    {
     "data": {
      "text/plain": [
       "'tent'"
      ]
     },
     "execution_count": 204,
     "metadata": {},
     "output_type": "execute_result"
    }
   ],
   "source": [
    "data = 'test'\n",
    "key = 'use a really long string'\n",
    "\n",
    "encrypted = xor(data, key)"
   ]
  },
  {
   "cell_type": "code",
   "execution_count": 206,
   "id": "funky-edinburgh",
   "metadata": {},
   "outputs": [],
   "source": [
    "data = \"04101e04\"\n",
    "import codecs\n",
    "encrypted = codecs.decode(data, \"hex\").decode('utf-8')"
   ]
  },
  {
   "cell_type": "code",
   "execution_count": 207,
   "id": "northern-birth",
   "metadata": {},
   "outputs": [
    {
     "data": {
      "text/plain": [
       "'tent'"
      ]
     },
     "execution_count": 207,
     "metadata": {},
     "output_type": "execute_result"
    }
   ],
   "source": [
    "xor(encrypted, 'pup')"
   ]
  },
  {
   "cell_type": "raw",
   "id": "straight-boulder",
   "metadata": {},
   "source": [
    "// To encrypt (js):\n",
    "\n",
    "function encryptStringWithXORtoHex(input,key) {\n",
    "    var c = '';\n",
    "    while (key.length < input.length) {\n",
    "         key += key;\n",
    "    }\n",
    "    for(var i=0; i<input.length; i++) {\n",
    "        var value1 = input[i].charCodeAt(0);\n",
    "        var value2 = key[i].charCodeAt(0);\n",
    "\n",
    "        var xorValue = value1 ^ value2;\n",
    "\n",
    "        var xorValueAsHexString = xorValue.toString(\"16\");\n",
    "\n",
    "        if (xorValueAsHexString.length < 2) {\n",
    "            xorValueAsHexString = \"0\" + xorValueAsHexString;\n",
    "        }\n",
    "\n",
    "        c += xorValueAsHexString;\n",
    "    }\n",
    "    return c;\n",
    "}\n"
   ]
  },
  {
   "cell_type": "code",
   "execution_count": 208,
   "id": "pending-stanford",
   "metadata": {},
   "outputs": [],
   "source": [
    "# To decrypt (Python)\n",
    "\n",
    "from itertools import cycle\n",
    "import codecs\n",
    "\n",
    "def xor(message_as_hex, key): \n",
    "    message = codecs.decode(message_as_hex, \"hex\").decode('utf-8')\n",
    "    return ''.join(chr(ord(c)^ord(k)) for c,k in zip(message, cycle(key)))\n"
   ]
  },
  {
   "cell_type": "code",
   "execution_count": null,
   "id": "automated-massachusetts",
   "metadata": {},
   "outputs": [],
   "source": []
  }
 ],
 "metadata": {
  "kernelspec": {
   "display_name": "Python 3",
   "language": "python",
   "name": "python3"
  },
  "language_info": {
   "codemirror_mode": {
    "name": "ipython",
    "version": 3
   },
   "file_extension": ".py",
   "mimetype": "text/x-python",
   "name": "python",
   "nbconvert_exporter": "python",
   "pygments_lexer": "ipython3",
   "version": "3.9.7"
  }
 },
 "nbformat": 4,
 "nbformat_minor": 5
}
