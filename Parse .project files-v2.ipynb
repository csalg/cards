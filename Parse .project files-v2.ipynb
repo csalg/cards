{
 "cells": [
  {
   "cell_type": "code",
   "execution_count": 13,
   "id": "basic-terminology",
   "metadata": {},
   "outputs": [
    {
     "name": "stdout",
     "output_type": "stream",
     "text": [
      "[(0, 8), (8, 14), (14, 18), (18, 19), (19, 20), (20, 21), (21, 22), (22, 23), (23, 24), (24, 25), (25, 26), (26, 27)]\n",
      "<p>Just write stuff in <strong>markdown</strong>.</p>\n",
      "<p>There are two ways to end the card:</p>\n",
      "<p>Way number 1 is to insert an image in its own line.</p>\n",
      "<img src='https://picture-cdn.wheretoget.it/eq8m4d-l-610x610-metro+man-blogger-jacket-jewels-menswear-trench+coat-tailoring-forest+green-elegant-classy-apc-mens+suit-suit.jpg'>\n",
      "<h1>New card with title</h1><p>This method allows easily rearranging thoughts, inserting pictures, adding comments, etc. And it's pretty minimalistic.</p>\n",
      "<img src='https://64.media.tumblr.com/8a49a88aaec9df3ad9041e8a882968d6/tumblr_mxhh6iEA5p1reo5bno1_1280.jpg'>\n",
      "<img src='https://www.permanentstyle.com/wp-content/uploads/2021/01/p1.jpg'>\n",
      "<img src='https://i2.wp.com/theoldmoneybook.com/wp-content/uploads/2019/08/screen-shot-2018-10-07-at-1.18.40-pm.jpg?resize=365%2C365&ssl=1'>\n",
      "<img src='https://i.pinimg.com/originals/73/c3/6b/73c36bcfe230a9a74d024f5ca1f27c84.jpg'>\n",
      "<img src='https://www.gentlemansgazette.com/wp-content/uploads/2015/06/Contemporary-Ivy-Style-by-Ralph-Lauren.jpg'>\n",
      "<img src='http://4.bp.blogspot.com/-s4v4ZQco15M/T1j1NuKWg2I/AAAAAAAAAvo/BcgODn219cg/s1600/ivyjfk-family.jpg'>\n",
      "<img src='https://i.pinimg.com/736x/e5/f4/9d/e5f49d59d94cd6e197cd6743ba17ac7b.jpg'>\n",
      "<img src='https://static01.nyt.com/images/2010/07/25/fashion/25prepspan-1/PREP-articleLarge.jpg?quality=75&auto=webp&disable=upscale'>\n",
      "<img src='https://i.pinimg.com/originals/92/3e/4b/923e4b8754a85a50063c616c98f8172c.jpg'>\n"
     ]
    }
   ],
   "source": [
    "import re\n",
    "import os\n",
    "from dataclasses import dataclass\n",
    "\n",
    "import requests\n",
    "import markdown\n",
    "\n",
    "# Open the file\n",
    "with open('sample.project') as file:\n",
    "    lines = file.readlines()\n",
    "# Find out the line numbers where cards start and end and split the text accordingly\n",
    "previous_card_start = 0\n",
    "card_indexes = []\n",
    "for i, line in enumerate(lines):\n",
    "    if i == 0:\n",
    "        continue\n",
    "    new_card_because_shebang = re.match(r\"^! .*\", line)\n",
    "    new_card_because_image = re.match(r\"^http.*\", line)\n",
    "    if new_card_because_shebang or new_card_because_image:\n",
    "        card_indexes.append( (previous_card_start, i) )\n",
    "        previous_card_start = i\n",
    "    \n",
    "card_indexes.append( (previous_card_start, len(lines)) )\n",
    "print(card_indexes)\n",
    "# For each card find out the title, body, images and references.\n",
    "start, end = card_indexes[0]\n",
    "# card = lines[start:end]\n",
    "# title = card[0].strip('! ') if re.match(r\"^! .*\", card[0]) else None\n",
    "# images = re.findall(r\"^http.*\", card[0])\n",
    "# image = None\n",
    "# if images:\n",
    "#     image = images[0]\n",
    "# body = None\n",
    "# # If we don't have a body, then the card is title + body type card\n",
    "# if not image:\n",
    "#     # Edge case: Card with single line body and no title\n",
    "#     if (len(card) == 1) and (not title):\n",
    "#         body = \"\\n\".join(cards)\n",
    "#     elif (len(card) == 1) and  title:\n",
    "#         body = None\n",
    "#     else:\n",
    "#         body = \"\\n\".join(card[1:])\n",
    "    \n",
    "@dataclass\n",
    "class Card:\n",
    "    title: str\n",
    "    body: str\n",
    "    image: str\n",
    "    \n",
    "    @classmethod\n",
    "    def from_card_lines(cls, card):\n",
    "        if not len(card):\n",
    "            raise Error('No lines received!')\n",
    "            \n",
    "        title = card[0].strip('! ') if re.match(r\"^! .*\", card[0]) else None\n",
    "        images = re.findall(r\"^http.*\", card[0])\n",
    "        image = None\n",
    "        if images:\n",
    "            image = images[0]\n",
    "        body = None\n",
    "        # If we don't have an image, then the card is title + body type card\n",
    "        if not image:\n",
    "            # Edge case: Card with single line body and no title\n",
    "            if (len(card) == 1) and (not title):\n",
    "                body = card[0]\n",
    "            elif (len(card) == 1) and title:\n",
    "                body = None\n",
    "            else:\n",
    "                body = \"\\n\".join(card[1:])\n",
    "        return cls(title, body, image)\n",
    "\n",
    "\n",
    "    def render(self):\n",
    "        if self.image:\n",
    "            return f\"<img src='{self.image}'>\"\n",
    "        else:\n",
    "            body = \"\"\n",
    "            if self.body:\n",
    "                body = markdown.markdown(self.body)\n",
    "            title = \"\"\n",
    "            if self.title:\n",
    "                newline = '\\n'\n",
    "                title = f\"<h1>{self.title.strip(newline)}</h1>\"\n",
    "            return title + body\n",
    "\n",
    "\n",
    "for start, end in card_indexes:\n",
    "    card = lines[start:end]\n",
    "    print(Card.from_card_lines(card).render())\n",
    "\n",
    "\n",
    "# CACHE_DIR = \"./cache\"\n",
    "\n",
    "# def download_image(imageStr):\n",
    "#     if not os.path.exists(CACHE_DIR):\n",
    "#         os.mkdir(CACHE_DIR)\n",
    "#     url = parse_image_src(imageStr)\n",
    "#     url_sanitized = url.replace('/', '_')\n",
    "#     path = os.path.join(CACHE_DIR, url_sanitized)\n",
    "#     if not os.path.exists(path):\n",
    "#         r = requests.get(url, allow_redirects=True)\n",
    "#         with open(path, 'wb') as file:\n",
    "#             file.write(r.content)\n",
    "        \n",
    "    \n",
    "# def parse_image_src(imageStr):\n",
    "#     return re.findall(r\"\\]\\(.*?\\)\", imageStr)[0].strip('](').strip(\")\")\n",
    "    \n",
    "# for imageStr in imageStrs:\n",
    "#     download_image(imageStr)\n",
    "\n",
    "# # Download the images to the cache folder\n",
    "\n",
    "# print(title, body, image)"
   ]
  },
  {
   "cell_type": "code",
   "execution_count": 39,
   "id": "flush-valve",
   "metadata": {},
   "outputs": [
    {
     "name": "stdout",
     "output_type": "stream",
     "text": [
      "Defaulting to user installation because normal site-packages is not writeable\n",
      "Requirement already satisfied: markdown in /home/charlie/.local/lib/pypy3.7/site-packages (3.3.4)\n",
      "Requirement already satisfied: importlib-metadata in /home/charlie/.local/lib/pypy3.7/site-packages (from markdown) (4.0.1)\n",
      "Requirement already satisfied: zipp>=0.5 in /home/charlie/.local/lib/pypy3.7/site-packages (from importlib-metadata->markdown) (3.4.1)\n",
      "Requirement already satisfied: typing-extensions>=3.6.4 in /home/charlie/.local/lib/pypy3.7/site-packages (from importlib-metadata->markdown) (3.10.0.0)\n",
      "\u001b[33mWARNING: You are using pip version 21.1.1; however, version 21.3.1 is available.\n",
      "You should consider upgrading via the '/usr/bin/pypy3 -m pip install --upgrade pip' command.\u001b[0m\n"
     ]
    }
   ],
   "source": [
    "!pip3 install markdown"
   ]
  },
  {
   "cell_type": "code",
   "execution_count": 41,
   "id": "saving-viewer",
   "metadata": {},
   "outputs": [
    {
     "data": {
      "text/plain": [
       "'<h1>Boglioli looks</h1>\\n<p>I really like Boglioli. I think it is a good balance between the Ivy League and British country styles which were somewhat devoid of colour and the too-colourful preppy style. It is also quite austere and minimalistic. I also really like how the models are of a similar skin tone and hair to me, making it easy to imagine how something would look.</p>\\n<p>Here are some pictures:</p>\\n<p><img alt=\"Kind of how I go to work except for the blazer. A darker blazer might work better?\" src=\"https://media.gq.com/photos/57bc9fc27c4c5fcf03df642b/master/w_1600,c_limit/boglioli-gq-style-0916-04.jpg\" /></p>\\n<p><img alt=\"This is a really good look, but not sure about the black, especially the black chukkas. I think dark brown double monks would have worked better in this case.\" src=\"https://media.gq.com/photos/57bc9fc41890ff5802599873/master/w_1600,c_limit/boglioli-gq-style-0916-05.jpg\" /></p>\\n<p><img alt=\"I wonder if these looks work because the models are so handsome. In this case the different shades of brown work really work: dark shade for the bottoms and lighter shades for the shirt and blazer. The shirt is lighter than the blazer, which is quite classical. I think everything was so classical in this outfit that they needed those black pennys to add some gravitas. Brogues would also work here, or something with suede would harmonize beautifully with the blazer.\" src=\"https://media.gq.com/photos/57bc9fc4c4fb86bf3ac6f403/master/w_1600,c_limit/boglioli-gq-style-0916-06.jpg\" /></p>'"
      ]
     },
     "execution_count": 41,
     "metadata": {},
     "output_type": "execute_result"
    }
   ],
   "source": [
    "import markdown\n",
    "\n",
    "def card_to_markdown(card):\n",
    "    # Join lines\n",
    "    cardMd = '\\n'.join(card).replace('! ', '# ')\n",
    "    return markdown.markdown(cardMd)\n",
    "\n",
    "card_to_markdown(card)"
   ]
  },
  {
   "cell_type": "markdown",
   "id": "amended-imperial",
   "metadata": {},
   "source": [
    "I am thinking of doing this a bit differently.\n",
    "For starters, I would like to be able to quickly copy image urls somewhere and add the comments later. This suggests an inbox feature. How would it work? Well, I would copy the links to an `inbox` file, one per line. Then I would have an inbox view with these images and textareas. And I could then add my comments.\n",
    "\n",
    "I am also thinking of using tags to organize things. I think tags within a project makes sense. If there are 30 cards, then 30 tags. That's reasonable. I was thinking of using a fuzzy typing algorithm: as you type, the algorithm would fuzzy match you against existing tags.\n",
    "\n",
    "I think for now just having a grid view with images would be nice."
   ]
  }
 ],
 "metadata": {
  "kernelspec": {
   "display_name": "Python 3",
   "language": "python",
   "name": "python3"
  },
  "language_info": {
   "codemirror_mode": {
    "name": "ipython",
    "version": 3
   },
   "file_extension": ".py",
   "mimetype": "text/x-python",
   "name": "python",
   "nbconvert_exporter": "python",
   "pygments_lexer": "ipython3",
   "version": "3.9.7"
  }
 },
 "nbformat": 4,
 "nbformat_minor": 5
}
